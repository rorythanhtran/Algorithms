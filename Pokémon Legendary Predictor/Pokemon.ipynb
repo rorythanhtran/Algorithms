{
 "cells": [
  {
   "cell_type": "markdown",
   "id": "41965483-1ba3-4c9d-b2a2-ad41a59866c9",
   "metadata": {},
   "source": [
    "# INTRODUCTION"
   ]
  },
  {
   "cell_type": "markdown",
   "id": "5e830577-7400-4e94-9e81-3250cc00a4b3",
   "metadata": {},
   "source": [
    "**About Pokémon**\n",
    "<br />\n",
    "Pokémon, short for \"Pocket Monsters,\" is a globally recognized franchise developed by Game Freak. It was initially released as a pair of video games for the Nintendo Game Boy. The franchise has since expanded into various forms of media, including video games, trading card games, movies, creating a cultural phenomenon. \n",
    "<br />\n",
    "<br />\n",
    "The pokemon universe revolves around fictional creatures called \"Pokémon\". Humans participated as Pokémon Trainers, catching and training to battle each other for sport. Each Pokémon belongs to one or more of eighteen elemental types, such as Fire, Water, Grass, and Electric, which determine their strengths and weaknesses against other Pokémon in battles. The goal of  Pokémon games is to become the Pokémon Champion by defeating other Trainers. \n",
    "<br />\n",
    "<br />\n",
    "**About Pokémon Data Science Project** \n",
    "<br />\n",
    "This project explores the rich and complex dataset of the Pokémon universe. This project aims to provide information into the overall Pokémon game dynamics and battles. Through this project, I intend to:\n",
    "<br />\n",
    "* Learn the role of individual Pokémon stats in determining the winner of the battle. \n",
    "* Create models to predict the outcomes of Pokémon battles based on available data.\n",
    "* Create some data visualizations for funsies and explain these graphs for the non-techincal audience. \n",
    "* Use it as an opportunity to learn Data science, engaging familiar contexts such as data visualization & analysis, machine learning. \n"
   ]
  },
  {
   "cell_type": "markdown",
   "id": "24bd36fd",
   "metadata": {},
   "source": [
    "# Exploratory Data Analysis\n",
    "I utilized the [two datasets](https://www.kaggle.com/datasets/terminus7/pokemon-challenge/data?select=pokemon.csv) available from Kaggle: one providing individual Pokémon attributes and the other focusing on Pokémon combat. The pokemon.csv file contains detailed information about each Pokémon, including names, 1st & 2nd attack types, hitpoints, defense points, etc. The combat.csv file records combat outcomes, including id of Pokémon battling each other and results of these battles. \n",
    "## Importing libraries & files \n"
   ]
  },
  {
   "cell_type": "code",
   "execution_count": 49,
   "id": "347763a7",
   "metadata": {},
   "outputs": [],
   "source": [
    "#importing libaries \n",
    "import numpy as np \n",
    "import pandas as pd \n",
    "import matplotlib as plt \n",
    "import matplotlib.pyplot as plt\n",
    "import seaborn as sns\n"
   ]
  },
  {
   "cell_type": "code",
   "execution_count": 50,
   "id": "56bfc7bd",
   "metadata": {},
   "outputs": [],
   "source": [
    "#importing csv files \n",
    "pokemon_data = pd.read_csv(\"pokemon.csv\")\n",
    "battle_data = pd.read_csv(\"combats.csv\")"
   ]
  },
  {
   "cell_type": "code",
   "execution_count": 51,
   "id": "b42646b7",
   "metadata": {},
   "outputs": [
    {
     "data": {
      "text/html": [
       "<div>\n",
       "<style scoped>\n",
       "    .dataframe tbody tr th:only-of-type {\n",
       "        vertical-align: middle;\n",
       "    }\n",
       "\n",
       "    .dataframe tbody tr th {\n",
       "        vertical-align: top;\n",
       "    }\n",
       "\n",
       "    .dataframe thead th {\n",
       "        text-align: right;\n",
       "    }\n",
       "</style>\n",
       "<table border=\"1\" class=\"dataframe\">\n",
       "  <thead>\n",
       "    <tr style=\"text-align: right;\">\n",
       "      <th></th>\n",
       "      <th>#</th>\n",
       "      <th>Name</th>\n",
       "      <th>Type 1</th>\n",
       "      <th>Type 2</th>\n",
       "      <th>HP</th>\n",
       "      <th>Attack</th>\n",
       "      <th>Defense</th>\n",
       "      <th>Sp. Atk</th>\n",
       "      <th>Sp. Def</th>\n",
       "      <th>Speed</th>\n",
       "      <th>Generation</th>\n",
       "      <th>Legendary</th>\n",
       "    </tr>\n",
       "  </thead>\n",
       "  <tbody>\n",
       "    <tr>\n",
       "      <th>0</th>\n",
       "      <td>1</td>\n",
       "      <td>Bulbasaur</td>\n",
       "      <td>Grass</td>\n",
       "      <td>Poison</td>\n",
       "      <td>45</td>\n",
       "      <td>49</td>\n",
       "      <td>49</td>\n",
       "      <td>65</td>\n",
       "      <td>65</td>\n",
       "      <td>45</td>\n",
       "      <td>1</td>\n",
       "      <td>False</td>\n",
       "    </tr>\n",
       "    <tr>\n",
       "      <th>1</th>\n",
       "      <td>2</td>\n",
       "      <td>Ivysaur</td>\n",
       "      <td>Grass</td>\n",
       "      <td>Poison</td>\n",
       "      <td>60</td>\n",
       "      <td>62</td>\n",
       "      <td>63</td>\n",
       "      <td>80</td>\n",
       "      <td>80</td>\n",
       "      <td>60</td>\n",
       "      <td>1</td>\n",
       "      <td>False</td>\n",
       "    </tr>\n",
       "    <tr>\n",
       "      <th>2</th>\n",
       "      <td>3</td>\n",
       "      <td>Venusaur</td>\n",
       "      <td>Grass</td>\n",
       "      <td>Poison</td>\n",
       "      <td>80</td>\n",
       "      <td>82</td>\n",
       "      <td>83</td>\n",
       "      <td>100</td>\n",
       "      <td>100</td>\n",
       "      <td>80</td>\n",
       "      <td>1</td>\n",
       "      <td>False</td>\n",
       "    </tr>\n",
       "    <tr>\n",
       "      <th>3</th>\n",
       "      <td>4</td>\n",
       "      <td>Mega Venusaur</td>\n",
       "      <td>Grass</td>\n",
       "      <td>Poison</td>\n",
       "      <td>80</td>\n",
       "      <td>100</td>\n",
       "      <td>123</td>\n",
       "      <td>122</td>\n",
       "      <td>120</td>\n",
       "      <td>80</td>\n",
       "      <td>1</td>\n",
       "      <td>False</td>\n",
       "    </tr>\n",
       "    <tr>\n",
       "      <th>4</th>\n",
       "      <td>5</td>\n",
       "      <td>Charmander</td>\n",
       "      <td>Fire</td>\n",
       "      <td>NaN</td>\n",
       "      <td>39</td>\n",
       "      <td>52</td>\n",
       "      <td>43</td>\n",
       "      <td>60</td>\n",
       "      <td>50</td>\n",
       "      <td>65</td>\n",
       "      <td>1</td>\n",
       "      <td>False</td>\n",
       "    </tr>\n",
       "  </tbody>\n",
       "</table>\n",
       "</div>"
      ],
      "text/plain": [
       "   #           Name Type 1  Type 2  HP  Attack  Defense  Sp. Atk  Sp. Def  \\\n",
       "0  1      Bulbasaur  Grass  Poison  45      49       49       65       65   \n",
       "1  2        Ivysaur  Grass  Poison  60      62       63       80       80   \n",
       "2  3       Venusaur  Grass  Poison  80      82       83      100      100   \n",
       "3  4  Mega Venusaur  Grass  Poison  80     100      123      122      120   \n",
       "4  5     Charmander   Fire     NaN  39      52       43       60       50   \n",
       "\n",
       "   Speed  Generation  Legendary  \n",
       "0     45           1      False  \n",
       "1     60           1      False  \n",
       "2     80           1      False  \n",
       "3     80           1      False  \n",
       "4     65           1      False  "
      ]
     },
     "execution_count": 51,
     "metadata": {},
     "output_type": "execute_result"
    }
   ],
   "source": [
    "pokemon_data.head()"
   ]
  },
  {
   "cell_type": "code",
   "execution_count": 52,
   "id": "e98338fa",
   "metadata": {},
   "outputs": [
    {
     "data": {
      "text/html": [
       "<div>\n",
       "<style scoped>\n",
       "    .dataframe tbody tr th:only-of-type {\n",
       "        vertical-align: middle;\n",
       "    }\n",
       "\n",
       "    .dataframe tbody tr th {\n",
       "        vertical-align: top;\n",
       "    }\n",
       "\n",
       "    .dataframe thead th {\n",
       "        text-align: right;\n",
       "    }\n",
       "</style>\n",
       "<table border=\"1\" class=\"dataframe\">\n",
       "  <thead>\n",
       "    <tr style=\"text-align: right;\">\n",
       "      <th></th>\n",
       "      <th>First_pokemon</th>\n",
       "      <th>Second_pokemon</th>\n",
       "      <th>Winner</th>\n",
       "    </tr>\n",
       "  </thead>\n",
       "  <tbody>\n",
       "    <tr>\n",
       "      <th>0</th>\n",
       "      <td>266</td>\n",
       "      <td>298</td>\n",
       "      <td>298</td>\n",
       "    </tr>\n",
       "    <tr>\n",
       "      <th>1</th>\n",
       "      <td>702</td>\n",
       "      <td>701</td>\n",
       "      <td>701</td>\n",
       "    </tr>\n",
       "    <tr>\n",
       "      <th>2</th>\n",
       "      <td>191</td>\n",
       "      <td>668</td>\n",
       "      <td>668</td>\n",
       "    </tr>\n",
       "    <tr>\n",
       "      <th>3</th>\n",
       "      <td>237</td>\n",
       "      <td>683</td>\n",
       "      <td>683</td>\n",
       "    </tr>\n",
       "    <tr>\n",
       "      <th>4</th>\n",
       "      <td>151</td>\n",
       "      <td>231</td>\n",
       "      <td>151</td>\n",
       "    </tr>\n",
       "  </tbody>\n",
       "</table>\n",
       "</div>"
      ],
      "text/plain": [
       "   First_pokemon  Second_pokemon  Winner\n",
       "0            266             298     298\n",
       "1            702             701     701\n",
       "2            191             668     668\n",
       "3            237             683     683\n",
       "4            151             231     151"
      ]
     },
     "execution_count": 52,
     "metadata": {},
     "output_type": "execute_result"
    }
   ],
   "source": [
    "battle_data.head()"
   ]
  },
  {
   "cell_type": "code",
   "execution_count": 53,
   "id": "764c10e8",
   "metadata": {},
   "outputs": [
    {
     "data": {
      "text/plain": [
       "(800, 12)"
      ]
     },
     "execution_count": 53,
     "metadata": {},
     "output_type": "execute_result"
    }
   ],
   "source": [
    "#Checking the dimensions of the individual Pokemon data \n",
    "pokemon_data.shape"
   ]
  },
  {
   "cell_type": "code",
   "execution_count": 54,
   "id": "a5015f56",
   "metadata": {},
   "outputs": [
    {
     "data": {
      "text/plain": [
       "(50000, 3)"
      ]
     },
     "execution_count": 54,
     "metadata": {},
     "output_type": "execute_result"
    }
   ],
   "source": [
    "battle_data.shape"
   ]
  },
  {
   "cell_type": "code",
   "execution_count": 55,
   "id": "2ad17f71",
   "metadata": {},
   "outputs": [
    {
     "data": {
      "text/plain": [
       "#               0\n",
       "Name            1\n",
       "Type 1          0\n",
       "Type 2        386\n",
       "HP              0\n",
       "Attack          0\n",
       "Defense         0\n",
       "Sp. Atk         0\n",
       "Sp. Def         0\n",
       "Speed           0\n",
       "Generation      0\n",
       "Legendary       0\n",
       "dtype: int64"
      ]
     },
     "execution_count": 55,
     "metadata": {},
     "output_type": "execute_result"
    }
   ],
   "source": [
    "#Checking missing values of the data \n",
    "pokemon_data.isnull().sum()"
   ]
  },
  {
   "cell_type": "markdown",
   "id": "3c42bb99",
   "metadata": {},
   "source": [
    "Notice that there are 386 null values for Type 2. This is because some Pokémon do not have a secondary type. (Some have have secondary classification - one pokemon might be able to breath fire and fly so its \"Type 1\" would be \"fire\" but it would also can fly so its \"Type 2\" would be \"flying\". **There is one name that is missing.**"
   ]
  },
  {
   "cell_type": "code",
   "execution_count": 56,
   "id": "200ba489",
   "metadata": {},
   "outputs": [
    {
     "name": "stdout",
     "output_type": "stream",
     "text": [
      "Int64Index([62], dtype='int64')\n"
     ]
    }
   ],
   "source": [
    "#Finding missing name index \n",
    "missing_name = pokemon_data[pokemon_data['Name'].isnull()]\n",
    "print(missing_name.index)"
   ]
  },
  {
   "cell_type": "code",
   "execution_count": 57,
   "id": "2595ef86",
   "metadata": {},
   "outputs": [
    {
     "name": "stdout",
     "output_type": "stream",
     "text": [
      "The missing pokemon is between 61    Mankey\n",
      "Name: Name, dtype: object  and 63    Growlithe\n",
      "Name: Name, dtype: object\n"
     ]
    }
   ],
   "source": [
    "# Find the names of the Pokémon before and after the missing index\n",
    "before_missing = pokemon_data.loc[missing_name.index - 1, 'Name']\n",
    "after_missing = pokemon_data.loc[missing_name.index +1, 'Name']\n",
    "print(\"The missing pokemon is between\", before_missing, \" and\",after_missing )\n"
   ]
  },
  {
   "cell_type": "markdown",
   "id": "56057ecb",
   "metadata": {},
   "source": [
    "Using the National Pokedex Number, we can look up the Pokémon between Mankey and Growlithe. **It was Primeape!** Update his name in the database!"
   ]
  },
  {
   "cell_type": "code",
   "execution_count": 58,
   "id": "3817999d",
   "metadata": {},
   "outputs": [
    {
     "name": "stderr",
     "output_type": "stream",
     "text": [
      "C:\\Users\\User\\AppData\\Local\\Temp\\ipykernel_14992\\207690178.py:2: SettingWithCopyWarning: \n",
      "A value is trying to be set on a copy of a slice from a DataFrame\n",
      "\n",
      "See the caveats in the documentation: https://pandas.pydata.org/pandas-docs/stable/user_guide/indexing.html#returning-a-view-versus-a-copy\n",
      "  pokemon_data['Name'][62] =\"Primeape\"\n"
     ]
    }
   ],
   "source": [
    "#Update the missing name\n",
    "pokemon_data['Name'][62] =\"Primeape\""
   ]
  },
  {
   "cell_type": "code",
   "execution_count": 59,
   "id": "5fb77a2c",
   "metadata": {},
   "outputs": [],
   "source": [
    "#Checking the values of the battles data \n",
    "count_by_first = battle_data.groupby('Second_pokemon').count()\n",
    "count_by_second = battle_data.groupby('First_pokemon').count()\n",
    "number_wins = battle_data.groupby('Winner').count()"
   ]
  },
  {
   "cell_type": "code",
   "execution_count": 60,
   "id": "d57dc4ef",
   "metadata": {},
   "outputs": [
    {
     "data": {
      "text/html": [
       "<div>\n",
       "<style scoped>\n",
       "    .dataframe tbody tr th:only-of-type {\n",
       "        vertical-align: middle;\n",
       "    }\n",
       "\n",
       "    .dataframe tbody tr th {\n",
       "        vertical-align: top;\n",
       "    }\n",
       "\n",
       "    .dataframe thead th {\n",
       "        text-align: right;\n",
       "    }\n",
       "</style>\n",
       "<table border=\"1\" class=\"dataframe\">\n",
       "  <thead>\n",
       "    <tr style=\"text-align: right;\">\n",
       "      <th></th>\n",
       "      <th>First_pokemon</th>\n",
       "      <th>Winner</th>\n",
       "    </tr>\n",
       "    <tr>\n",
       "      <th>Second_pokemon</th>\n",
       "      <th></th>\n",
       "      <th></th>\n",
       "    </tr>\n",
       "  </thead>\n",
       "  <tbody>\n",
       "    <tr>\n",
       "      <th>1</th>\n",
       "      <td>63</td>\n",
       "      <td>63</td>\n",
       "    </tr>\n",
       "    <tr>\n",
       "      <th>2</th>\n",
       "      <td>66</td>\n",
       "      <td>66</td>\n",
       "    </tr>\n",
       "    <tr>\n",
       "      <th>3</th>\n",
       "      <td>64</td>\n",
       "      <td>64</td>\n",
       "    </tr>\n",
       "    <tr>\n",
       "      <th>4</th>\n",
       "      <td>63</td>\n",
       "      <td>63</td>\n",
       "    </tr>\n",
       "    <tr>\n",
       "      <th>5</th>\n",
       "      <td>62</td>\n",
       "      <td>62</td>\n",
       "    </tr>\n",
       "    <tr>\n",
       "      <th>...</th>\n",
       "      <td>...</td>\n",
       "      <td>...</td>\n",
       "    </tr>\n",
       "    <tr>\n",
       "      <th>796</th>\n",
       "      <td>56</td>\n",
       "      <td>56</td>\n",
       "    </tr>\n",
       "    <tr>\n",
       "      <th>797</th>\n",
       "      <td>67</td>\n",
       "      <td>67</td>\n",
       "    </tr>\n",
       "    <tr>\n",
       "      <th>798</th>\n",
       "      <td>59</td>\n",
       "      <td>59</td>\n",
       "    </tr>\n",
       "    <tr>\n",
       "      <th>799</th>\n",
       "      <td>69</td>\n",
       "      <td>69</td>\n",
       "    </tr>\n",
       "    <tr>\n",
       "      <th>800</th>\n",
       "      <td>60</td>\n",
       "      <td>60</td>\n",
       "    </tr>\n",
       "  </tbody>\n",
       "</table>\n",
       "<p>784 rows × 2 columns</p>\n",
       "</div>"
      ],
      "text/plain": [
       "                First_pokemon  Winner\n",
       "Second_pokemon                       \n",
       "1                          63      63\n",
       "2                          66      66\n",
       "3                          64      64\n",
       "4                          63      63\n",
       "5                          62      62\n",
       "...                       ...     ...\n",
       "796                        56      56\n",
       "797                        67      67\n",
       "798                        59      59\n",
       "799                        69      69\n",
       "800                        60      60\n",
       "\n",
       "[784 rows x 2 columns]"
      ]
     },
     "execution_count": 60,
     "metadata": {},
     "output_type": "execute_result"
    }
   ],
   "source": [
    "count_by_first"
   ]
  },
  {
   "cell_type": "code",
   "execution_count": 61,
   "id": "62a7724d",
   "metadata": {},
   "outputs": [
    {
     "data": {
      "text/plain": [
       "(784, 2)"
      ]
     },
     "execution_count": 61,
     "metadata": {},
     "output_type": "execute_result"
    }
   ],
   "source": [
    "count_by_first.shape"
   ]
  },
  {
   "cell_type": "code",
   "execution_count": 62,
   "id": "7877cecf",
   "metadata": {},
   "outputs": [
    {
     "data": {
      "text/plain": [
       "(784, 2)"
      ]
     },
     "execution_count": 62,
     "metadata": {},
     "output_type": "execute_result"
    }
   ],
   "source": [
    "count_by_second.shape"
   ]
  },
  {
   "cell_type": "code",
   "execution_count": 63,
   "id": "b5c0014c",
   "metadata": {},
   "outputs": [
    {
     "data": {
      "text/plain": [
       "(783, 2)"
      ]
     },
     "execution_count": 63,
     "metadata": {},
     "output_type": "execute_result"
    }
   ],
   "source": [
    "number_wins.shape"
   ]
  },
  {
   "cell_type": "code",
   "execution_count": 64,
   "id": "52cd5ce4",
   "metadata": {},
   "outputs": [
    {
     "data": {
      "text/html": [
       "<div>\n",
       "<style scoped>\n",
       "    .dataframe tbody tr th:only-of-type {\n",
       "        vertical-align: middle;\n",
       "    }\n",
       "\n",
       "    .dataframe tbody tr th {\n",
       "        vertical-align: top;\n",
       "    }\n",
       "\n",
       "    .dataframe thead th {\n",
       "        text-align: right;\n",
       "    }\n",
       "</style>\n",
       "<table border=\"1\" class=\"dataframe\">\n",
       "  <thead>\n",
       "    <tr style=\"text-align: right;\">\n",
       "      <th></th>\n",
       "      <th>First_pokemon</th>\n",
       "      <th>Second_pokemon</th>\n",
       "    </tr>\n",
       "    <tr>\n",
       "      <th>Winner</th>\n",
       "      <th></th>\n",
       "      <th></th>\n",
       "    </tr>\n",
       "  </thead>\n",
       "  <tbody>\n",
       "    <tr>\n",
       "      <th>1</th>\n",
       "      <td>37</td>\n",
       "      <td>37</td>\n",
       "    </tr>\n",
       "    <tr>\n",
       "      <th>2</th>\n",
       "      <td>46</td>\n",
       "      <td>46</td>\n",
       "    </tr>\n",
       "    <tr>\n",
       "      <th>3</th>\n",
       "      <td>89</td>\n",
       "      <td>89</td>\n",
       "    </tr>\n",
       "    <tr>\n",
       "      <th>4</th>\n",
       "      <td>70</td>\n",
       "      <td>70</td>\n",
       "    </tr>\n",
       "    <tr>\n",
       "      <th>5</th>\n",
       "      <td>55</td>\n",
       "      <td>55</td>\n",
       "    </tr>\n",
       "    <tr>\n",
       "      <th>...</th>\n",
       "      <td>...</td>\n",
       "      <td>...</td>\n",
       "    </tr>\n",
       "    <tr>\n",
       "      <th>796</th>\n",
       "      <td>39</td>\n",
       "      <td>39</td>\n",
       "    </tr>\n",
       "    <tr>\n",
       "      <th>797</th>\n",
       "      <td>116</td>\n",
       "      <td>116</td>\n",
       "    </tr>\n",
       "    <tr>\n",
       "      <th>798</th>\n",
       "      <td>60</td>\n",
       "      <td>60</td>\n",
       "    </tr>\n",
       "    <tr>\n",
       "      <th>799</th>\n",
       "      <td>89</td>\n",
       "      <td>89</td>\n",
       "    </tr>\n",
       "    <tr>\n",
       "      <th>800</th>\n",
       "      <td>75</td>\n",
       "      <td>75</td>\n",
       "    </tr>\n",
       "  </tbody>\n",
       "</table>\n",
       "<p>783 rows × 2 columns</p>\n",
       "</div>"
      ],
      "text/plain": [
       "        First_pokemon  Second_pokemon\n",
       "Winner                               \n",
       "1                  37              37\n",
       "2                  46              46\n",
       "3                  89              89\n",
       "4                  70              70\n",
       "5                  55              55\n",
       "...               ...             ...\n",
       "796                39              39\n",
       "797               116             116\n",
       "798                60              60\n",
       "799                89              89\n",
       "800                75              75\n",
       "\n",
       "[783 rows x 2 columns]"
      ]
     },
     "execution_count": 64,
     "metadata": {},
     "output_type": "execute_result"
    }
   ],
   "source": [
    "number_wins"
   ]
  },
  {
   "cell_type": "markdown",
   "id": "a8bf2fdf",
   "metadata": {},
   "source": [
    "We can see that the number of dimensions is different in the total wins. This can only mean there is one Pokémon that was unable to win during it's fights. Lets find that Pokémon!"
   ]
  },
  {
   "cell_type": "code",
   "execution_count": 65,
   "id": "a96f9fc6",
   "metadata": {},
   "outputs": [
    {
     "name": "stdout",
     "output_type": "stream",
     "text": [
      "{231}\n"
     ]
    }
   ],
   "source": [
    "winners = set(battle_data['Winner'])\n",
    "losers = set(battle_data['First_pokemon'])\n",
    "pokemon_never_won = losers - winners\n",
    "print(pokemon_never_won)"
   ]
  },
  {
   "cell_type": "code",
   "execution_count": 66,
   "id": "94ef2f27",
   "metadata": {},
   "outputs": [
    {
     "name": "stdout",
     "output_type": "stream",
     "text": [
      "Pokémon that  was unable to win during it's fights is  Shuckle\n"
     ]
    }
   ],
   "source": [
    "print(\"Pokémon that  was unable to win during it's fights is \", pokemon_data['Name'][230]) #231 is the , 230 is the index"
   ]
  },
  {
   "cell_type": "markdown",
   "id": "b9a845e9",
   "metadata": {},
   "source": [
    "This actually makes sense because Shuckle is known for its extremely high Defense, which makes it one of the most resilient Pokémon in terms of enduring attacks. However, Shuckle's Attack stats are significantly lower compared to many other Pokémon. **We will add  Shuckle to the data so that the array lengths are the same. This will make merging the two datasets easier**"
   ]
  },
  {
   "cell_type": "code",
   "execution_count": 67,
   "id": "ef2e5622",
   "metadata": {},
   "outputs": [
    {
     "name": "stderr",
     "output_type": "stream",
     "text": [
      "C:\\Users\\User\\AppData\\Local\\Temp\\ipykernel_14992\\3083723115.py:1: FutureWarning: The frame.append method is deprecated and will be removed from pandas in a future version. Use pandas.concat instead.\n",
      "  number_wins = number_wins.append({'Winner': 231, 'Count': 0}, ignore_index=True)\n"
     ]
    }
   ],
   "source": [
    "number_wins = number_wins.append({'Winner': 231, 'Count': 0}, ignore_index=True)"
   ]
  },
  {
   "cell_type": "markdown",
   "id": "ac48ee05",
   "metadata": {},
   "source": [
    "We now have a comprehensive Pokémon dataset. Now we could perform some analyses to explore various aspects of the Pokémon universe, from drawing the correlation between generation and attack attempt to predicting the battle outcome.  "
   ]
  },
  {
   "cell_type": "markdown",
   "id": "4d1b7a3f",
   "metadata": {},
   "source": [
    "# Performing Analysis on Individual Pokémon Data"
   ]
  },
  {
   "cell_type": "code",
   "execution_count": 68,
   "id": "8aca9a15",
   "metadata": {},
   "outputs": [
    {
     "data": {
      "text/html": [
       "<div>\n",
       "<style scoped>\n",
       "    .dataframe tbody tr th:only-of-type {\n",
       "        vertical-align: middle;\n",
       "    }\n",
       "\n",
       "    .dataframe tbody tr th {\n",
       "        vertical-align: top;\n",
       "    }\n",
       "\n",
       "    .dataframe thead th {\n",
       "        text-align: right;\n",
       "    }\n",
       "</style>\n",
       "<table border=\"1\" class=\"dataframe\">\n",
       "  <thead>\n",
       "    <tr style=\"text-align: right;\">\n",
       "      <th></th>\n",
       "      <th>#</th>\n",
       "      <th>Name</th>\n",
       "      <th>Type 1</th>\n",
       "      <th>Type 2</th>\n",
       "      <th>HP</th>\n",
       "      <th>Attack</th>\n",
       "      <th>Defense</th>\n",
       "      <th>Sp. Atk</th>\n",
       "      <th>Sp. Def</th>\n",
       "      <th>Speed</th>\n",
       "      <th>Generation</th>\n",
       "      <th>Legendary</th>\n",
       "    </tr>\n",
       "  </thead>\n",
       "  <tbody>\n",
       "    <tr>\n",
       "      <th>0</th>\n",
       "      <td>1</td>\n",
       "      <td>Bulbasaur</td>\n",
       "      <td>Grass</td>\n",
       "      <td>Poison</td>\n",
       "      <td>45</td>\n",
       "      <td>49</td>\n",
       "      <td>49</td>\n",
       "      <td>65</td>\n",
       "      <td>65</td>\n",
       "      <td>45</td>\n",
       "      <td>1</td>\n",
       "      <td>False</td>\n",
       "    </tr>\n",
       "    <tr>\n",
       "      <th>1</th>\n",
       "      <td>2</td>\n",
       "      <td>Ivysaur</td>\n",
       "      <td>Grass</td>\n",
       "      <td>Poison</td>\n",
       "      <td>60</td>\n",
       "      <td>62</td>\n",
       "      <td>63</td>\n",
       "      <td>80</td>\n",
       "      <td>80</td>\n",
       "      <td>60</td>\n",
       "      <td>1</td>\n",
       "      <td>False</td>\n",
       "    </tr>\n",
       "    <tr>\n",
       "      <th>2</th>\n",
       "      <td>3</td>\n",
       "      <td>Venusaur</td>\n",
       "      <td>Grass</td>\n",
       "      <td>Poison</td>\n",
       "      <td>80</td>\n",
       "      <td>82</td>\n",
       "      <td>83</td>\n",
       "      <td>100</td>\n",
       "      <td>100</td>\n",
       "      <td>80</td>\n",
       "      <td>1</td>\n",
       "      <td>False</td>\n",
       "    </tr>\n",
       "    <tr>\n",
       "      <th>3</th>\n",
       "      <td>4</td>\n",
       "      <td>Mega Venusaur</td>\n",
       "      <td>Grass</td>\n",
       "      <td>Poison</td>\n",
       "      <td>80</td>\n",
       "      <td>100</td>\n",
       "      <td>123</td>\n",
       "      <td>122</td>\n",
       "      <td>120</td>\n",
       "      <td>80</td>\n",
       "      <td>1</td>\n",
       "      <td>False</td>\n",
       "    </tr>\n",
       "    <tr>\n",
       "      <th>4</th>\n",
       "      <td>5</td>\n",
       "      <td>Charmander</td>\n",
       "      <td>Fire</td>\n",
       "      <td>NaN</td>\n",
       "      <td>39</td>\n",
       "      <td>52</td>\n",
       "      <td>43</td>\n",
       "      <td>60</td>\n",
       "      <td>50</td>\n",
       "      <td>65</td>\n",
       "      <td>1</td>\n",
       "      <td>False</td>\n",
       "    </tr>\n",
       "  </tbody>\n",
       "</table>\n",
       "</div>"
      ],
      "text/plain": [
       "   #           Name Type 1  Type 2  HP  Attack  Defense  Sp. Atk  Sp. Def  \\\n",
       "0  1      Bulbasaur  Grass  Poison  45      49       49       65       65   \n",
       "1  2        Ivysaur  Grass  Poison  60      62       63       80       80   \n",
       "2  3       Venusaur  Grass  Poison  80      82       83      100      100   \n",
       "3  4  Mega Venusaur  Grass  Poison  80     100      123      122      120   \n",
       "4  5     Charmander   Fire     NaN  39      52       43       60       50   \n",
       "\n",
       "   Speed  Generation  Legendary  \n",
       "0     45           1      False  \n",
       "1     60           1      False  \n",
       "2     80           1      False  \n",
       "3     80           1      False  \n",
       "4     65           1      False  "
      ]
     },
     "execution_count": 68,
     "metadata": {},
     "output_type": "execute_result"
    }
   ],
   "source": [
    "pokemon_data.head()"
   ]
  },
  {
   "cell_type": "code",
   "execution_count": 69,
   "id": "d3497e0e",
   "metadata": {},
   "outputs": [
    {
     "data": {
      "text/plain": [
       "#              int64\n",
       "Name          object\n",
       "Type 1        object\n",
       "Type 2        object\n",
       "HP             int64\n",
       "Attack         int64\n",
       "Defense        int64\n",
       "Sp. Atk        int64\n",
       "Sp. Def        int64\n",
       "Speed          int64\n",
       "Generation     int64\n",
       "Legendary       bool\n",
       "dtype: object"
      ]
     },
     "execution_count": 69,
     "metadata": {},
     "output_type": "execute_result"
    }
   ],
   "source": [
    "pokemon_data.dtypes #outputing the data type of each column"
   ]
  },
  {
   "cell_type": "code",
   "execution_count": 70,
   "id": "8dba6c11",
   "metadata": {},
   "outputs": [
    {
     "data": {
      "text/html": [
       "<div>\n",
       "<style scoped>\n",
       "    .dataframe tbody tr th:only-of-type {\n",
       "        vertical-align: middle;\n",
       "    }\n",
       "\n",
       "    .dataframe tbody tr th {\n",
       "        vertical-align: top;\n",
       "    }\n",
       "\n",
       "    .dataframe thead th {\n",
       "        text-align: right;\n",
       "    }\n",
       "</style>\n",
       "<table border=\"1\" class=\"dataframe\">\n",
       "  <thead>\n",
       "    <tr style=\"text-align: right;\">\n",
       "      <th></th>\n",
       "      <th>#</th>\n",
       "      <th>HP</th>\n",
       "      <th>Attack</th>\n",
       "      <th>Defense</th>\n",
       "      <th>Sp. Atk</th>\n",
       "      <th>Sp. Def</th>\n",
       "      <th>Speed</th>\n",
       "      <th>Generation</th>\n",
       "    </tr>\n",
       "  </thead>\n",
       "  <tbody>\n",
       "    <tr>\n",
       "      <th>count</th>\n",
       "      <td>800.0000</td>\n",
       "      <td>800.000000</td>\n",
       "      <td>800.000000</td>\n",
       "      <td>800.000000</td>\n",
       "      <td>800.000000</td>\n",
       "      <td>800.000000</td>\n",
       "      <td>800.000000</td>\n",
       "      <td>800.00000</td>\n",
       "    </tr>\n",
       "    <tr>\n",
       "      <th>mean</th>\n",
       "      <td>400.5000</td>\n",
       "      <td>69.258750</td>\n",
       "      <td>79.001250</td>\n",
       "      <td>73.842500</td>\n",
       "      <td>72.820000</td>\n",
       "      <td>71.902500</td>\n",
       "      <td>68.277500</td>\n",
       "      <td>3.32375</td>\n",
       "    </tr>\n",
       "    <tr>\n",
       "      <th>std</th>\n",
       "      <td>231.0844</td>\n",
       "      <td>25.534669</td>\n",
       "      <td>32.457366</td>\n",
       "      <td>31.183501</td>\n",
       "      <td>32.722294</td>\n",
       "      <td>27.828916</td>\n",
       "      <td>29.060474</td>\n",
       "      <td>1.66129</td>\n",
       "    </tr>\n",
       "    <tr>\n",
       "      <th>min</th>\n",
       "      <td>1.0000</td>\n",
       "      <td>1.000000</td>\n",
       "      <td>5.000000</td>\n",
       "      <td>5.000000</td>\n",
       "      <td>10.000000</td>\n",
       "      <td>20.000000</td>\n",
       "      <td>5.000000</td>\n",
       "      <td>1.00000</td>\n",
       "    </tr>\n",
       "    <tr>\n",
       "      <th>25%</th>\n",
       "      <td>200.7500</td>\n",
       "      <td>50.000000</td>\n",
       "      <td>55.000000</td>\n",
       "      <td>50.000000</td>\n",
       "      <td>49.750000</td>\n",
       "      <td>50.000000</td>\n",
       "      <td>45.000000</td>\n",
       "      <td>2.00000</td>\n",
       "    </tr>\n",
       "    <tr>\n",
       "      <th>50%</th>\n",
       "      <td>400.5000</td>\n",
       "      <td>65.000000</td>\n",
       "      <td>75.000000</td>\n",
       "      <td>70.000000</td>\n",
       "      <td>65.000000</td>\n",
       "      <td>70.000000</td>\n",
       "      <td>65.000000</td>\n",
       "      <td>3.00000</td>\n",
       "    </tr>\n",
       "    <tr>\n",
       "      <th>75%</th>\n",
       "      <td>600.2500</td>\n",
       "      <td>80.000000</td>\n",
       "      <td>100.000000</td>\n",
       "      <td>90.000000</td>\n",
       "      <td>95.000000</td>\n",
       "      <td>90.000000</td>\n",
       "      <td>90.000000</td>\n",
       "      <td>5.00000</td>\n",
       "    </tr>\n",
       "    <tr>\n",
       "      <th>max</th>\n",
       "      <td>800.0000</td>\n",
       "      <td>255.000000</td>\n",
       "      <td>190.000000</td>\n",
       "      <td>230.000000</td>\n",
       "      <td>194.000000</td>\n",
       "      <td>230.000000</td>\n",
       "      <td>180.000000</td>\n",
       "      <td>6.00000</td>\n",
       "    </tr>\n",
       "  </tbody>\n",
       "</table>\n",
       "</div>"
      ],
      "text/plain": [
       "              #          HP      Attack     Defense     Sp. Atk     Sp. Def  \\\n",
       "count  800.0000  800.000000  800.000000  800.000000  800.000000  800.000000   \n",
       "mean   400.5000   69.258750   79.001250   73.842500   72.820000   71.902500   \n",
       "std    231.0844   25.534669   32.457366   31.183501   32.722294   27.828916   \n",
       "min      1.0000    1.000000    5.000000    5.000000   10.000000   20.000000   \n",
       "25%    200.7500   50.000000   55.000000   50.000000   49.750000   50.000000   \n",
       "50%    400.5000   65.000000   75.000000   70.000000   65.000000   70.000000   \n",
       "75%    600.2500   80.000000  100.000000   90.000000   95.000000   90.000000   \n",
       "max    800.0000  255.000000  190.000000  230.000000  194.000000  230.000000   \n",
       "\n",
       "            Speed  Generation  \n",
       "count  800.000000   800.00000  \n",
       "mean    68.277500     3.32375  \n",
       "std     29.060474     1.66129  \n",
       "min      5.000000     1.00000  \n",
       "25%     45.000000     2.00000  \n",
       "50%     65.000000     3.00000  \n",
       "75%     90.000000     5.00000  \n",
       "max    180.000000     6.00000  "
      ]
     },
     "execution_count": 70,
     "metadata": {},
     "output_type": "execute_result"
    }
   ],
   "source": [
    "pokemon_data.describe() #summary of statistics for the numerical columns"
   ]
  },
  {
   "cell_type": "markdown",
   "id": "81df524c",
   "metadata": {},
   "source": [
    "### Pokemon Categorization by types"
   ]
  },
  {
   "cell_type": "code",
   "execution_count": 71,
   "id": "095b27ec",
   "metadata": {},
   "outputs": [],
   "source": [
    "by_types = pokemon_data['Type 1'].value_counts() #Count number of pokemon by its Type 1 "
   ]
  },
  {
   "cell_type": "code",
   "execution_count": 72,
   "id": "4a9e615c",
   "metadata": {},
   "outputs": [],
   "source": [
    "by_types_df = pd.DataFrame(list(by_types.items()), columns = ['Type','Count'])"
   ]
  },
  {
   "cell_type": "code",
   "execution_count": 73,
   "id": "32c2a46f",
   "metadata": {},
   "outputs": [
    {
     "data": {
      "text/html": [
       "<div>\n",
       "<style scoped>\n",
       "    .dataframe tbody tr th:only-of-type {\n",
       "        vertical-align: middle;\n",
       "    }\n",
       "\n",
       "    .dataframe tbody tr th {\n",
       "        vertical-align: top;\n",
       "    }\n",
       "\n",
       "    .dataframe thead th {\n",
       "        text-align: right;\n",
       "    }\n",
       "</style>\n",
       "<table border=\"1\" class=\"dataframe\">\n",
       "  <thead>\n",
       "    <tr style=\"text-align: right;\">\n",
       "      <th></th>\n",
       "      <th>Type</th>\n",
       "      <th>Count</th>\n",
       "    </tr>\n",
       "  </thead>\n",
       "  <tbody>\n",
       "    <tr>\n",
       "      <th>0</th>\n",
       "      <td>Water</td>\n",
       "      <td>112</td>\n",
       "    </tr>\n",
       "    <tr>\n",
       "      <th>1</th>\n",
       "      <td>Normal</td>\n",
       "      <td>98</td>\n",
       "    </tr>\n",
       "    <tr>\n",
       "      <th>2</th>\n",
       "      <td>Grass</td>\n",
       "      <td>70</td>\n",
       "    </tr>\n",
       "    <tr>\n",
       "      <th>3</th>\n",
       "      <td>Bug</td>\n",
       "      <td>69</td>\n",
       "    </tr>\n",
       "    <tr>\n",
       "      <th>4</th>\n",
       "      <td>Psychic</td>\n",
       "      <td>57</td>\n",
       "    </tr>\n",
       "    <tr>\n",
       "      <th>5</th>\n",
       "      <td>Fire</td>\n",
       "      <td>52</td>\n",
       "    </tr>\n",
       "    <tr>\n",
       "      <th>6</th>\n",
       "      <td>Electric</td>\n",
       "      <td>44</td>\n",
       "    </tr>\n",
       "    <tr>\n",
       "      <th>7</th>\n",
       "      <td>Rock</td>\n",
       "      <td>44</td>\n",
       "    </tr>\n",
       "    <tr>\n",
       "      <th>8</th>\n",
       "      <td>Dragon</td>\n",
       "      <td>32</td>\n",
       "    </tr>\n",
       "    <tr>\n",
       "      <th>9</th>\n",
       "      <td>Ground</td>\n",
       "      <td>32</td>\n",
       "    </tr>\n",
       "    <tr>\n",
       "      <th>10</th>\n",
       "      <td>Ghost</td>\n",
       "      <td>32</td>\n",
       "    </tr>\n",
       "    <tr>\n",
       "      <th>11</th>\n",
       "      <td>Dark</td>\n",
       "      <td>31</td>\n",
       "    </tr>\n",
       "    <tr>\n",
       "      <th>12</th>\n",
       "      <td>Poison</td>\n",
       "      <td>28</td>\n",
       "    </tr>\n",
       "    <tr>\n",
       "      <th>13</th>\n",
       "      <td>Steel</td>\n",
       "      <td>27</td>\n",
       "    </tr>\n",
       "    <tr>\n",
       "      <th>14</th>\n",
       "      <td>Fighting</td>\n",
       "      <td>27</td>\n",
       "    </tr>\n",
       "    <tr>\n",
       "      <th>15</th>\n",
       "      <td>Ice</td>\n",
       "      <td>24</td>\n",
       "    </tr>\n",
       "    <tr>\n",
       "      <th>16</th>\n",
       "      <td>Fairy</td>\n",
       "      <td>17</td>\n",
       "    </tr>\n",
       "    <tr>\n",
       "      <th>17</th>\n",
       "      <td>Flying</td>\n",
       "      <td>4</td>\n",
       "    </tr>\n",
       "  </tbody>\n",
       "</table>\n",
       "</div>"
      ],
      "text/plain": [
       "        Type  Count\n",
       "0      Water    112\n",
       "1     Normal     98\n",
       "2      Grass     70\n",
       "3        Bug     69\n",
       "4    Psychic     57\n",
       "5       Fire     52\n",
       "6   Electric     44\n",
       "7       Rock     44\n",
       "8     Dragon     32\n",
       "9     Ground     32\n",
       "10     Ghost     32\n",
       "11      Dark     31\n",
       "12    Poison     28\n",
       "13     Steel     27\n",
       "14  Fighting     27\n",
       "15       Ice     24\n",
       "16     Fairy     17\n",
       "17    Flying      4"
      ]
     },
     "execution_count": 73,
     "metadata": {},
     "output_type": "execute_result"
    }
   ],
   "source": [
    "by_types_df"
   ]
  },
  {
   "cell_type": "code",
   "execution_count": 74,
   "id": "89138805",
   "metadata": {},
   "outputs": [
    {
     "data": {
      "image/png": "[encoded data removed]",
      "text/plain": [
       "<Figure size 1500x600 with 1 Axes>"
      ]
     },
     "metadata": {},
     "output_type": "display_data"
    }
   ],
   "source": [
    "# Plot the histogram\n",
    "plt.figure(figsize=(15, 6))\n",
    "plt.bar(by_types_df['Type'], by_types_df['Count'], color='skyblue', edgecolor='black')\n",
    "plt.title('Histogram of Pokémon by its Type 1 ')\n",
    "plt.xlabel('Type 1')\n",
    "plt.ylabel('Number of Pokémon')\n",
    "plt.show()"
   ]
  },
  {
   "cell_type": "markdown",
   "id": "cc7b6069",
   "metadata": {},
   "source": [
    "**Comments:** \n",
    "- Water-type Pokémon are the most common, with 112 Pokémon falling into this category. \n",
    "- Normal type is the second most common, these Pokémon are versatile and often have balanced stats. \n",
    "- Dragon, Ground, Ghost, and Dark types have around 31-32 Pokémon each. These types are often considered more specialized or rare.\n",
    "- Fairy (17) and Flying (4) types are the least common in this dataset. Fairy types were introduced later in the series, which could explain their lower numbers. Flying types often appear as secondary types rather than primary, that's why it has the lowest figure. "
   ]
  },
  {
   "cell_type": "markdown",
   "id": "c57e6d0c",
   "metadata": {},
   "source": [
    "### Box plots of Pokémon's attributes"
   ]
  },
  {
   "cell_type": "code",
   "execution_count": 75,
   "id": "c3b3a455",
   "metadata": {},
   "outputs": [
    {
     "data": {
      "image/png": "[encoded data removed]",
      "text/plain": [
       "<Figure size 1500x1000 with 6 Axes>"
      ]
     },
     "metadata": {},
     "output_type": "display_data"
    }
   ],
   "source": [
    "attributes = ['HP', 'Attack', 'Defense', 'Sp. Atk', 'Sp. Def', 'Speed']\n",
    "plt.figure(figsize=(15, 10))\n",
    "# Create box plots for each attribute\n",
    "for i, attribute in enumerate(attributes, 1):\n",
    "    plt.subplot(2, 3, i)  # Arrange plots in 2 rows and 3 columns\n",
    "    sns.boxplot(y=pokemon_data[attribute])\n",
    "    plt.title(f'Box Plot of {attribute}')\n",
    "plt.show()"
   ]
  },
  {
   "cell_type": "markdown",
   "id": "014868fb",
   "metadata": {},
   "source": [
    "### Box plots of Pokémon's attributes by types"
   ]
  },
  {
   "cell_type": "markdown",
   "id": "14c512e8",
   "metadata": {},
   "source": [
    "Now, we will plot the box plots of Pokémon attributes (HP, Attack, Defense, Sp. Atk, Sp. Def, Speed) categorized by type. This will provide useful information for trainers to make decisions on team compesitions and strategies on combats. "
   ]
  },
  {
   "cell_type": "code",
   "execution_count": 76,
   "id": "e79843b3",
   "metadata": {},
   "outputs": [],
   "source": [
    "pokemon_attributes = pokemon_data.melt(id_vars=['Type 1'], value_vars=attributes, var_name='Attribute', value_name='Value')\n"
   ]
  },
  {
   "cell_type": "code",
   "execution_count": 77,
   "id": "8c6d4605",
   "metadata": {},
   "outputs": [
    {
     "data": {
      "image/png": "[encoded data removed]",
      "text/plain": [
       "<Figure size 3000x1500 with 1 Axes>"
      ]
     },
     "metadata": {},
     "output_type": "display_data"
    }
   ],
   "source": [
    "# Create the box plots\n",
    "plt.figure(figsize=(30, 15))\n",
    "sns.boxplot(x='Attribute', y='Value', hue='Type 1', data=pokemon_attributes)\n",
    "plt.title('Box Plot of Pokémon Attributes by Type')\n",
    "plt.xlabel('Attribute')\n",
    "plt.ylabel('Value')\n",
    "plt.legend(loc='upper right', bbox_to_anchor=(1.2, 1))\n",
    "plt.show()"
   ]
  },
  {
   "cell_type": "markdown",
   "id": "323bef8b",
   "metadata": {},
   "source": [
    "**Comments:**\n",
    "- Water and Normal types show a wide range of HP values, which is understandable because they have the highest number of Pokemon species. Bug types have generally lower HP.\n",
    "- Dragon, Fighting, and Rock types typically have higher attack values. Electric and Fairy types show lower attack values.\n",
    "- Steel and Rock types are characterized by high defense, making them durable in battles.\n",
    "- Dragon, Flying and Psychic types show higher special defense.\n",
    "- Electric, Dragon and Flying types demonstrate high speeds. \n",
    "\n",
    "**Understanding the distribution of these attributes helps in building well-balanced teams. For instance, including a high HP Water type and a high Speed Electric type can result in multiple strategic needs to win a battle.**\n"
   ]
  },
  {
   "cell_type": "markdown",
   "id": "8fb2a336",
   "metadata": {},
   "source": [
    "### Machine Learning Model to predict if a Pokémon is legendary "
   ]
  },
  {
   "cell_type": "markdown",
   "id": "e37b1a71",
   "metadata": {},
   "source": [
    "If a Pokémon is legendary, it's rare and incredibly powerful. By looking at individual's stats, we could train our computer to recognize patterns that help it decide if a Pokémon is legendary or not."
   ]
  },
  {
   "cell_type": "code",
   "execution_count": 78,
   "id": "10f2abaf",
   "metadata": {},
   "outputs": [],
   "source": [
    "# Split data into features and target\n",
    "X = pokemon_data[attributes]\n",
    "y = pokemon_data['Legendary'].astype(int) #Convert 'Legendary' column to binary"
   ]
  },
  {
   "cell_type": "code",
   "execution_count": 79,
   "id": "cdfaa00c",
   "metadata": {},
   "outputs": [],
   "source": [
    "# Split data into training and testing sets\n",
    "from sklearn.model_selection import train_test_split\n",
    "X_train, X_test, y_train, y_test = train_test_split(X, y, test_size=0.2, random_state=111)"
   ]
  },
  {
   "cell_type": "markdown",
   "id": "3ff05579",
   "metadata": {},
   "source": [
    "We will use Random Forest for classifying Pokémon. It's a great choice for this task because the algorithm let us know which features (attributes) are most important in making predictions, helping us understand what characteristics are common among legendary Pokémon."
   ]
  },
  {
   "cell_type": "code",
   "execution_count": 80,
   "id": "56b27259",
   "metadata": {},
   "outputs": [],
   "source": [
    "#Model training\n",
    "from sklearn.ensemble import RandomForestClassifier\n",
    "from sklearn.metrics import accuracy_score, classification_report, confusion_matrix\n",
    "\n",
    "#Initialize the model \n",
    "rf_mod = RandomForestClassifier(n_estimators=100, random_state=222)\n",
    "\n",
    "# Train the model\n",
    "rf_mod.fit(X_train, y_train)\n",
    "\n",
    "# Make predictions\n",
    "y_pred = rf_mod.predict(X_test)"
   ]
  },
  {
   "cell_type": "code",
   "execution_count": 81,
   "id": "f1cf230e",
   "metadata": {},
   "outputs": [
    {
     "name": "stdout",
     "output_type": "stream",
     "text": [
      "Accuracy of Random forest is 92.5%\n"
     ]
    }
   ],
   "source": [
    "#Model evaluation\n",
    "accuracy = accuracy_score(y_test, y_pred)*100\n",
    "print(f'Accuracy of Random forest is {accuracy}%')"
   ]
  },
  {
   "cell_type": "markdown",
   "id": "65d2e177",
   "metadata": {},
   "source": [
    "**We got the result of 92.5% accuracy. Not too bad for the first time trying!** To improve the Random Forest Model, we couls use **GridSearchCV** to systematically tune the hyperparameters of the Random Forest Model and find the optimal set. GridSearchCV also performs cross-validation on each set of hyperparameters, which is more reliable compared to a single train-test split. We will also ensure the features are on a similar scale (standardized) this time. "
   ]
  },
  {
   "cell_type": "code",
   "execution_count": 82,
   "id": "1a314dfd",
   "metadata": {},
   "outputs": [
    {
     "name": "stdout",
     "output_type": "stream",
     "text": [
      "Best Parameters for the Random Forest Model is: {'max_depth': 20, 'min_samples_leaf': 2, 'n_estimators': 200}\n"
     ]
    }
   ],
   "source": [
    "#Use GridSearchCV to tune a Random Forest model\n",
    "from sklearn.model_selection import GridSearchCV\n",
    "from sklearn.preprocessing import StandardScaler\n",
    "\n",
    "\n",
    "# Transform the features data\n",
    "X_train_standardized = StandardScaler().fit_transform(X_train)\n",
    "X_test_standardized = StandardScaler().fit_transform(X_test)    \n",
    "\n",
    "# Define the parameter grid\n",
    "param_grid = {\n",
    "    'min_samples_leaf': [1, 2, 4],\n",
    "    'max_depth': [5, 10, 20, 30],\n",
    "    'n_estimators': [100, 200, 300]\n",
    "}\n",
    "\n",
    "\n",
    "# Initialize the new Random Forest model\n",
    "rf_improved = RandomForestClassifier()\n",
    "\n",
    "# Initialize GridSearchCV\n",
    "grid_search = GridSearchCV(estimator=rf_improved, param_grid=param_grid, cv=10, scoring='accuracy')\n",
    "#10-fold cross-validation\n",
    "\n",
    "# Fit GridSearchCV\n",
    "grid_search.fit(X_train_standardized, y_train)\n",
    "\n",
    "# Print the best parameters found\n",
    "print(\"Best Parameters for the Random Forest Model is:\", grid_search.best_params_)\n"
   ]
  },
  {
   "cell_type": "code",
   "execution_count": 83,
   "id": "d5ea2dff",
   "metadata": {},
   "outputs": [
    {
     "name": "stdout",
     "output_type": "stream",
     "text": [
      "Accuracy of the Improved Random forest is 92.5%\n"
     ]
    }
   ],
   "source": [
    "# Predict using the best estimator\n",
    "best_rf = grid_search.best_estimator_\n",
    "y_pred_new = best_rf.predict(X_test_standardized)\n",
    "\n",
    "#Model evaluation (Improved Random Fprest)\n",
    "accuracy = accuracy_score(y_test, y_pred_new)*100\n",
    "print(f'Accuracy of the Improved Random forest is {accuracy}%')"
   ]
  },
  {
   "cell_type": "markdown",
   "id": "6699b9ba",
   "metadata": {},
   "source": [
    "**The model performance doesn't improve much from the previous model. I will continue experimenting with different algorithms (XGBoost, Support Vector Machines - SVM, Logistic Regression) and compare them in terms of predictive accuracy.**"
   ]
  },
  {
   "cell_type": "code",
   "execution_count": 84,
   "id": "b33b94e7-6252-45eb-9498-34c996c2040f",
   "metadata": {},
   "outputs": [],
   "source": [
    "# Importing necessary libraries\n",
    "from sklearn.linear_model import LogisticRegression\n",
    "from sklearn.svm import SVC\n",
    "from sklearn.neighbors import KNeighborsClassifier\n",
    "from sklearn.ensemble import GradientBoostingClassifier\n",
    "\n",
    "# Initialize the models\n",
    "models = {\n",
    "    \"Logistic Regression\": LogisticRegression(),\n",
    "    \"SVM\": SVC(),\n",
    "    \"KNN\": KNeighborsClassifier(),\n",
    "    \"Gradient Boosting\": GradientBoostingClassifier(),\n",
    "    \"Random Forest\": RandomForestClassifier()\n",
    "}"
   ]
  },
  {
   "cell_type": "code",
   "execution_count": 88,
   "id": "61e37ad6-da00-4a3b-be42-2452827fe1e4",
   "metadata": {},
   "outputs": [
    {
     "name": "stdout",
     "output_type": "stream",
     "text": [
      "Logistic Regression Accuracy: 91.25%\n",
      "SVM Accuracy: 93.12%\n",
      "KNN Accuracy: 92.50%\n",
      "Gradient Boosting Accuracy: 91.88%\n",
      "Random Forest Accuracy: 92.50%\n"
     ]
    },
    {
     "data": {
      "image/png": "[encoded data removed]",
      "text/plain": [
       "<Figure size 1000x600 with 1 Axes>"
      ]
     },
     "metadata": {},
     "output_type": "display_data"
    }
   ],
   "source": [
    "# Train and evaluate each model\n",
    "accuracy_scores = {}\n",
    "\n",
    "for name, model in models.items():\n",
    "    model.fit(X_train_standardized, y_train)\n",
    "    y_pred = model.predict(X_test_standardized)\n",
    "    accuracy = accuracy_score(y_test, y_pred)\n",
    "    accuracy_scores[name] = accuracy\n",
    "    print(f'{name} Accuracy: {accuracy * 100:.2f}%')\n",
    "\n",
    "# Plotting the accuracy scores\n",
    "model_names = list(accuracy_scores.keys())\n",
    "scores = list(accuracy_scores.values())\n",
    "\n",
    "plt.figure(figsize=(10, 6))\n",
    "plt.barh(model_names, scores, color='skyblue')\n",
    "plt.xlabel('Accuracy Score')\n",
    "plt.title('Models\\' performances Comparison')\n",
    "plt.xlim(0, 1) # Accuracy ranges between 0 and 1\n",
    "for index, value in enumerate(scores):\n",
    "    plt.text(value, index, f'{value*100:.2f}%', va='center')\n",
    "plt.show()"
   ]
  },
  {
   "cell_type": "markdown",
   "id": "88242a86-5967-4e6f-8c81-27d74216b306",
   "metadata": {},
   "source": [
    "**SVM outperformed other models with a 93.12% of accuracy. Just like with Random Forest model, we could use GridSearchCV to find the optimal hyperparameters for the SVM model.**"
   ]
  },
  {
   "cell_type": "code",
   "execution_count": 89,
   "id": "5b9ab05f-8035-42b1-a171-45fc517286ff",
   "metadata": {},
   "outputs": [
    {
     "name": "stdout",
     "output_type": "stream",
     "text": [
      "Best Parameters for SVM: {'C': 0.1, 'gamma': 'scale', 'kernel': 'poly'}\n",
      "Improved SVM Accuracy: 93.125%\n"
     ]
    }
   ],
   "source": [
    "from sklearn.svm import SVC\n",
    "\n",
    "# Define the parameter grid\n",
    "param_grid_svm = {\n",
    "    'C': [0.1, 1, 10, 100],\n",
    "    'kernel': ['linear', 'rbf', 'poly'],\n",
    "    'gamma': ['scale', 'auto']\n",
    "}\n",
    "\n",
    "# Initialize GridSearchCV for SVM\n",
    "grid_search_svm = GridSearchCV(SVC(), param_grid_svm, cv=5, scoring='accuracy')\n",
    "\n",
    "# Fit the GridSearchCV\n",
    "grid_search_svm.fit(X_train_standardized, y_train)\n",
    "\n",
    "# Get the best parameters and evaluate the model\n",
    "print(f\"Best Parameters for SVM: {grid_search_svm.best_params_}\")\n",
    "y_pred_svm = grid_search_svm.best_estimator_.predict(X_test_standardized)\n",
    "accuracy_svm = accuracy_score(y_test, y_pred_svm)*100\n",
    "print(f\"Improved SVM Accuracy: {accuracy_svm}%\")\n"
   ]
  },
  {
   "cell_type": "markdown",
   "id": "3489623b-39a4-43ca-9c86-5fc3fe4c9d10",
   "metadata": {},
   "source": [
    "**Nothing changes. Let's try appplying the Principal Component Analysis (PCA) technique to help the model focus on the most important features.**"
   ]
  },
  {
   "cell_type": "code",
   "execution_count": 94,
   "id": "ee519322-9ce6-426f-92a4-29b592b96eae",
   "metadata": {},
   "outputs": [
    {
     "name": "stdout",
     "output_type": "stream",
     "text": [
      "SVM with PCA Accuracy: 93.125%\n"
     ]
    }
   ],
   "source": [
    "from sklearn.decomposition import PCA\n",
    "\n",
    "# Perform PCA\n",
    "pca = PCA(n_components=6)\n",
    "X_train_pca = pca.fit_transform(X_train_standardized)\n",
    "X_test_pca = pca.transform(X_test_standardized)\n",
    "\n",
    "# Train the model using PCA-transformed data\n",
    "svm_pca = SVC()\n",
    "svm_pca.fit(X_train_pca, y_train)\n",
    "y_pred_pca = svm_pca.predict(X_test_pca)\n",
    "\n",
    "# Evaluate the model\n",
    "accuracy_pca = accuracy_score(y_test, y_pred_pca)*100\n",
    "print(f\"SVM with PCA Accuracy: {accuracy_pca}%\")"
   ]
  },
  {
   "cell_type": "markdown",
   "id": "25b37eb7-fd54-4077-af29-2e1b99a529e6",
   "metadata": {},
   "source": [
    "**Once again, the model gave us 93.13%. Further improvements may require deeper changes to the feature set or exploration of additional data. Overall, the SVM model provided good results for this classification task and I'm satisifed for now. We will move on to the next question.**"
   ]
  },
  {
   "cell_type": "markdown",
   "id": "3fbe9d2f",
   "metadata": {},
   "source": [
    "### Machine Learning Model to predict if a Pokémon won a battle "
   ]
  },
  {
   "cell_type": "code",
   "execution_count": null,
   "id": "ca654f5f-6a04-4883-89df-4d7898195d22",
   "metadata": {},
   "outputs": [],
   "source": []
  },
  {
   "cell_type": "code",
   "execution_count": null,
   "id": "e3bccbc5",
   "metadata": {},
   "outputs": [],
   "source": [
    "# Merge the winning dataset and the original pokemon dataset\n",
    "combine_data = pd.merge(pokemon_data, win_count, right_index = True, left_on='#')"
   ]
  },
  {
   "cell_type": "code",
   "execution_count": null,
   "id": "cc1c5ad7-9d1c-43e1-a523-1cdc176e478a",
   "metadata": {},
   "outputs": [],
   "source": [
    "win_count = battle_data.groupby('Winner').count()\n",
    "\n",
    "# Merge the winning dataset and the original pokemon dataset\n",
    "combine_data = pd.merge(pokemon_data, win_count, right_index = True, left_on='#')"
   ]
  },
  {
   "cell_type": "code",
   "execution_count": null,
   "id": "c3591f00",
   "metadata": {},
   "outputs": [],
   "source": [
    "win_count = win_count.sort_index()"
   ]
  },
  {
   "cell_type": "code",
   "execution_count": null,
   "id": "82fe18b3",
   "metadata": {},
   "outputs": [],
   "source": [
    "win_count"
   ]
  },
  {
   "cell_type": "code",
   "execution_count": null,
   "id": "43874185",
   "metadata": {},
   "outputs": [],
   "source": [
    "#Merge the winning dataset and the original pokemon dataset\n",
    "combine_data = pd.merge(pokemon_data, win_count, right_index = True, left_on='#', how ='inner')"
   ]
  },
  {
   "cell_type": "code",
   "execution_count": null,
   "id": "e3537723",
   "metadata": {},
   "outputs": [],
   "source": [
    "combine_data.head()"
   ]
  },
  {
   "cell_type": "code",
   "execution_count": null,
   "id": "b82b0fa8",
   "metadata": {},
   "outputs": [],
   "source": []
  }
 ],
 "metadata": {
  "kernelspec": {
   "display_name": "Python 3 (ipykernel)",
   "language": "python",
   "name": "python3"
  },
  "language_info": {
   "codemirror_mode": {
    "name": "ipython",
    "version": 3
   },
   "file_extension": ".py",
   "mimetype": "text/x-python",
   "name": "python",
   "nbconvert_exporter": "python",
   "pygments_lexer": "ipython3",
   "version": "3.9.13"
  }
 },
 "nbformat": 4,
 "nbformat_minor": 5
}
